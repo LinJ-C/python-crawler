{
 "cells": [
  {
   "cell_type": "code",
   "execution_count": 5,
   "metadata": {
    "collapsed": false
   },
   "outputs": [
    {
     "name": "stdout",
     "output_type": "stream",
     "text": [
      "页响应状态码 200\n",
      "no img\n",
      "{\"Test_name\": \"\\u4e00\\u5217\\u58eb\\u5175\\uff0c\\u6bcf\\u884c\\u63927\\u4e2a\\uff0c\\u4f594\\u4e2a\\uff1b\\u6bcf\\u884c\\u639213\\u4e2a\\uff0c\\u4f593\\u4e2a\\uff1b\\u6bcf\\u884c\\u639217\\u4e2a\\uff0c\\u4f592\\u4e2a\\uff1b\\u95ee\\u5217\\u5175\\u6709\\u51e0\\u4e2a\\uff1f \\u8bf7\\u95ee\\u4f60\\u662f\\u600e\\u4e48\\u8ba1\\u7b97\\u51fa\\u7b54\\u6848\\u7684\\u3002\", \"question\": {\"Test_type\": \"\\u5355\\u9009\\u9898\", \"question_title\": \"\\u4e00\\u5217\\u58eb\\u5175\\uff0c\\u6bcf\\u884c\\u63927\\u4e2a\\uff0c\\u4f594\\u4e2a\\uff1b\\u6bcf\\u884c\\u639213\\u4e2a\\uff0c\\u4f593\\u4e2a\\uff1b\\u6bcf\\u884c\\u639217\\u4e2a\\uff0c\\u4f592\\u4e2a\\uff1b\\u95ee\\u5217\\u5175\\u6709\\u51e0\\u4e2a\\uff1f \\u8bf7\\u95ee\\u4f60\\u662f\\u600e\\u4e48\\u8ba1\\u7b97\\u51fa\\u7b54\\u6848\\u7684\\u3002\", \"question_cont\": [\"1.\\r\\n\\u7528\\u679a\\u4e3e\\u6cd5\\u5fc3\\u7b97\\uff0c\\u7528\\u65f6\\u4e0d\\u8d85\\u8fc73\\u5206\\u949f\", \"2.\\r\\n\\u5217\\u51fa\\u65b9\\u7a0b\\u6c42\\u89e3\\uff0c\\u7528\\u65f6\\u4e0d\\u8d85\\u8fc75\\u5206\\u949f\", \"3.\\r\\n10\\u5206\\u949f\\u5185\\u6ca1\\u5f97\\u51fa\\u7ed3\\u8bba\"]}, \"result\": [\"\\u6d4b\\u8bd5\\u5f97\\u5206\\uff1a 0  \", \"\\u7ed3\\u679c\\u5206\\u6790\\uff1a\\u4f60\\u7684\\u6570\\u5b66\\u5929\\u8d4b\\u8fd8\\u4e0d\\u6210\\u5f62\\uff0c\\u52a0\\u6cb9\\u5427~\", \"\\u6d4b\\u8bd5\\u5f97\\u5206\\uff1a 0  \", \"\\u7ed3\\u679c\\u5206\\u6790\\uff1a\\u4f60\\u7684\\u6570\\u5b66\\u5929\\u8d4b\\u662f\\u6b27\\u62c9\\u578b\", \"\\u6d4b\\u8bd5\\u5f97\\u5206\\uff1a 0  \", \"\\u7ed3\\u679c\\u5206\\u6790\\uff1a\\u4f60\\u7684\\u6570\\u5b66\\u5929\\u8d4b\\u662f\\u9ad8\\u65af\\u578b\"]}\n"
     ]
    },
    {
     "ename": "ProgrammingError",
     "evalue": "(1064, \"You have an error in your SQL syntax; check the manual that corresponds to your MySQL server version for the right syntax to use near 'data'')' at line 1\")",
     "output_type": "error",
     "traceback": [
      "\u001b[0;31m---------------------------------------------------------------------------\u001b[0m",
      "\u001b[0;31mProgrammingError\u001b[0m                          Traceback (most recent call last)",
      "\u001b[0;32m<ipython-input-5-8b18bfe06d95>\u001b[0m in \u001b[0;36m<module>\u001b[0;34m()\u001b[0m\n\u001b[1;32m    113\u001b[0m                \u001b[0mtsql\u001b[0m \u001b[1;33m=\u001b[0m \u001b[1;34m\"insert into jsondata(id,type,format,data) values(c,a,b,'{json}')\"\u001b[0m\u001b[1;33m\u001b[0m\u001b[0m\n\u001b[1;32m    114\u001b[0m                \u001b[0msql\u001b[0m \u001b[1;33m=\u001b[0m \u001b[0mtsql\u001b[0m\u001b[1;33m.\u001b[0m\u001b[0mformat\u001b[0m\u001b[1;33m(\u001b[0m\u001b[0mc\u001b[0m\u001b[1;33m=\u001b[0m\u001b[1;36m4\u001b[0m\u001b[1;33m,\u001b[0m\u001b[0ma\u001b[0m\u001b[1;33m=\u001b[0m\u001b[1;34m'图片测试'\u001b[0m\u001b[1;33m,\u001b[0m\u001b[0mb\u001b[0m\u001b[1;33m=\u001b[0m\u001b[1;34m'单选'\u001b[0m\u001b[1;33m,\u001b[0m\u001b[0mjson\u001b[0m\u001b[1;33m=\u001b[0m\u001b[0mMySQLdb\u001b[0m\u001b[1;33m.\u001b[0m\u001b[0mescape_string\u001b[0m\u001b[1;33m(\u001b[0m\u001b[1;34mr'data'\u001b[0m\u001b[1;33m)\u001b[0m\u001b[1;33m)\u001b[0m\u001b[1;33m\u001b[0m\u001b[0m\n\u001b[0;32m--> 115\u001b[0;31m                \u001b[0mcur\u001b[0m\u001b[1;33m.\u001b[0m\u001b[0mexecute\u001b[0m\u001b[1;33m(\u001b[0m\u001b[0msql\u001b[0m\u001b[1;33m)\u001b[0m\u001b[1;33m\u001b[0m\u001b[0m\n\u001b[0m\u001b[1;32m    116\u001b[0m                \u001b[0mcur\u001b[0m\u001b[1;33m.\u001b[0m\u001b[0mclose\u001b[0m\u001b[1;33m(\u001b[0m\u001b[1;33m)\u001b[0m\u001b[1;33m\u001b[0m\u001b[0m\n\u001b[1;32m    117\u001b[0m                \u001b[0mconn\u001b[0m\u001b[1;33m.\u001b[0m\u001b[0mcommit\u001b[0m\u001b[1;33m(\u001b[0m\u001b[1;33m)\u001b[0m\u001b[1;33m\u001b[0m\u001b[0m\n",
      "\u001b[0;32mD:\\Python\\lib\\site-packages\\MySQLdb\\cursors.py\u001b[0m in \u001b[0;36mexecute\u001b[0;34m(self, query, args)\u001b[0m\n\u001b[1;32m    204\u001b[0m \u001b[1;33m\u001b[0m\u001b[0m\n\u001b[1;32m    205\u001b[0m         \u001b[1;32massert\u001b[0m \u001b[0misinstance\u001b[0m\u001b[1;33m(\u001b[0m\u001b[0mquery\u001b[0m\u001b[1;33m,\u001b[0m \u001b[1;33m(\u001b[0m\u001b[0mbytes\u001b[0m\u001b[1;33m,\u001b[0m \u001b[0mbytearray\u001b[0m\u001b[1;33m)\u001b[0m\u001b[1;33m)\u001b[0m\u001b[1;33m\u001b[0m\u001b[0m\n\u001b[0;32m--> 206\u001b[0;31m         \u001b[0mres\u001b[0m \u001b[1;33m=\u001b[0m \u001b[0mself\u001b[0m\u001b[1;33m.\u001b[0m\u001b[0m_query\u001b[0m\u001b[1;33m(\u001b[0m\u001b[0mquery\u001b[0m\u001b[1;33m)\u001b[0m\u001b[1;33m\u001b[0m\u001b[0m\n\u001b[0m\u001b[1;32m    207\u001b[0m         \u001b[1;32mreturn\u001b[0m \u001b[0mres\u001b[0m\u001b[1;33m\u001b[0m\u001b[0m\n\u001b[1;32m    208\u001b[0m \u001b[1;33m\u001b[0m\u001b[0m\n",
      "\u001b[0;32mD:\\Python\\lib\\site-packages\\MySQLdb\\cursors.py\u001b[0m in \u001b[0;36m_query\u001b[0;34m(self, q)\u001b[0m\n\u001b[1;32m    310\u001b[0m         \u001b[0mdb\u001b[0m \u001b[1;33m=\u001b[0m \u001b[0mself\u001b[0m\u001b[1;33m.\u001b[0m\u001b[0m_get_db\u001b[0m\u001b[1;33m(\u001b[0m\u001b[1;33m)\u001b[0m\u001b[1;33m\u001b[0m\u001b[0m\n\u001b[1;32m    311\u001b[0m         \u001b[0mself\u001b[0m\u001b[1;33m.\u001b[0m\u001b[0m_result\u001b[0m \u001b[1;33m=\u001b[0m \u001b[1;32mNone\u001b[0m\u001b[1;33m\u001b[0m\u001b[0m\n\u001b[0;32m--> 312\u001b[0;31m         \u001b[0mdb\u001b[0m\u001b[1;33m.\u001b[0m\u001b[0mquery\u001b[0m\u001b[1;33m(\u001b[0m\u001b[0mq\u001b[0m\u001b[1;33m)\u001b[0m\u001b[1;33m\u001b[0m\u001b[0m\n\u001b[0m\u001b[1;32m    313\u001b[0m         \u001b[0mself\u001b[0m\u001b[1;33m.\u001b[0m\u001b[0m_do_get_result\u001b[0m\u001b[1;33m(\u001b[0m\u001b[0mdb\u001b[0m\u001b[1;33m)\u001b[0m\u001b[1;33m\u001b[0m\u001b[0m\n\u001b[1;32m    314\u001b[0m         \u001b[0mself\u001b[0m\u001b[1;33m.\u001b[0m\u001b[0m_post_get_result\u001b[0m\u001b[1;33m(\u001b[0m\u001b[1;33m)\u001b[0m\u001b[1;33m\u001b[0m\u001b[0m\n",
      "\u001b[0;32mD:\\Python\\lib\\site-packages\\MySQLdb\\connections.py\u001b[0m in \u001b[0;36mquery\u001b[0;34m(self, query)\u001b[0m\n\u001b[1;32m    222\u001b[0m         \u001b[1;32mif\u001b[0m \u001b[0misinstance\u001b[0m\u001b[1;33m(\u001b[0m\u001b[0mquery\u001b[0m\u001b[1;33m,\u001b[0m \u001b[0mbytearray\u001b[0m\u001b[1;33m)\u001b[0m\u001b[1;33m:\u001b[0m\u001b[1;33m\u001b[0m\u001b[0m\n\u001b[1;32m    223\u001b[0m             \u001b[0mquery\u001b[0m \u001b[1;33m=\u001b[0m \u001b[0mbytes\u001b[0m\u001b[1;33m(\u001b[0m\u001b[0mquery\u001b[0m\u001b[1;33m)\u001b[0m\u001b[1;33m\u001b[0m\u001b[0m\n\u001b[0;32m--> 224\u001b[0;31m         \u001b[0m_mysql\u001b[0m\u001b[1;33m.\u001b[0m\u001b[0mconnection\u001b[0m\u001b[1;33m.\u001b[0m\u001b[0mquery\u001b[0m\u001b[1;33m(\u001b[0m\u001b[0mself\u001b[0m\u001b[1;33m,\u001b[0m \u001b[0mquery\u001b[0m\u001b[1;33m)\u001b[0m\u001b[1;33m\u001b[0m\u001b[0m\n\u001b[0m\u001b[1;32m    225\u001b[0m \u001b[1;33m\u001b[0m\u001b[0m\n\u001b[1;32m    226\u001b[0m     \u001b[1;32mdef\u001b[0m \u001b[0m_bytes_literal\u001b[0m\u001b[1;33m(\u001b[0m\u001b[0mself\u001b[0m\u001b[1;33m,\u001b[0m \u001b[0mbs\u001b[0m\u001b[1;33m)\u001b[0m\u001b[1;33m:\u001b[0m\u001b[1;33m\u001b[0m\u001b[0m\n",
      "\u001b[0;31mProgrammingError\u001b[0m: (1064, \"You have an error in your SQL syntax; check the manual that corresponds to your MySQL server version for the right syntax to use near 'data'')' at line 1\")"
     ]
    }
   ],
   "source": [
    " #获取3Q网站测试题(趣味图片题)\n",
    "import requests\n",
    "import re\n",
    "from bs4 import BeautifulSoup\n",
    "\n",
    "import json\n",
    "import MySQLdb\n",
    "\n",
    "from selenium import webdriver\n",
    "from selenium.webdriver.firefox.firefox_binary import FirefoxBinary\n",
    "caps = webdriver.DesiredCapabilities.FIREFOX\n",
    "import time\n",
    "caps[\"marionette\"]=True\n",
    "binary = FirefoxBinary(r\"D:\\python外用包\\firefox.exe\")\n",
    "\n",
    "headers={\n",
    "    'User-Agent':'Mozilla/5.0 (Linux; Android 6.0; Nexus 5 Build/MRA58N) AppleWebKit/537.36 (KHTML, like Gecko) Chrome/70.0.3538.110 Mobile Safari/537.36'\n",
    "}\n",
    "link1='https://www.33iq.com/quiz/quwei'\n",
    "link2='.html'\n",
    "#循环遍历所有页\n",
    "for i in range(1,4):\n",
    "    if(i<=1):\n",
    "        link=link1+link2\n",
    "    else:\n",
    "        link=link1+\"/\"+str(i)+link2\n",
    "        \n",
    "    #print(link)\n",
    "    r = requests.get(link,headers=headers,timeout=10)\n",
    "    r.encoding='gb2312'\n",
    "    print(\"页响应状态码\",r.status_code)\n",
    "    \n",
    "    #获取每个页面\n",
    "    soup = BeautifulSoup(r.text,\"lxml\")\n",
    "    \n",
    "    #找到主要数据的div列表\n",
    "    div_list = soup.find_all('div',class_='quiz-data')\n",
    "    \n",
    "    #遍历查询题目数量\n",
    "    for eachdiv in div_list:\n",
    "        i = re.findall('<div class=\"item\".*?>(.*?)</div>',str(eachdiv))\n",
    "\n",
    "    #判断题目数量是否为“1题”   \n",
    "        if(str(i[0])=='1题'):\n",
    "            title = eachdiv.a.text.strip()\n",
    "            href = eachdiv.a.get('href')\n",
    "            result=\"https://www.33iq.com/\"+href\n",
    "            linka=\"https://www.33iq.com/\"+href.replace(\"quizresult\",\"question\")\n",
    "        \n",
    "            #题目编号获取\n",
    "            #print(href[-8:-5])\n",
    "            \n",
    "            #爬取结果\n",
    "            id=int(href[-8:-5])\n",
    "            \n",
    "            #提交的表单\n",
    "            post_data = {\n",
    "            'q_id':id,\n",
    "            'qq_type':'2'\n",
    "                        }\n",
    "            \n",
    "            headers2={\n",
    "                 'User-Agent':'Mozilla/5.0 (Windows NT 10.0; WOW64) AppleWebKit/537.36 (KHTML, like Gecko) Chrome/70.0.3538.110 Safari/537.36'\n",
    "                    }\n",
    "            r3 = requests.post(result,headers=headers2,timeout=10,data=post_data)\n",
    "            r3.encoding='gb2312'\n",
    "            soup2 = BeautifulSoup(r3.text,'lxml')\n",
    "            tr_list = soup2.find('table')\n",
    "            \n",
    "            #print(tr_list)\n",
    "            result=tr_list.find_all('p')\n",
    "            Reault=[]\n",
    "            for ea in result:\n",
    "                each=str(ea).replace('<b class=\"score-orange font18\">','').replace('</b>','').replace('<p>','').replace('</p>','')\n",
    "                Reault.append(each)\n",
    "            #print(Reault)\n",
    "        \n",
    "            \n",
    "            \n",
    "            #开始爬取题\n",
    "            r2 = requests.get(linka,headers=headers,timeout=10)\n",
    "            r2.encoding='gb2312'\n",
    "            soup1 = BeautifulSoup(r2.text,\"lxml\")\n",
    "            #print(soup1)\n",
    "            \n",
    "            #获取题目\n",
    "            title_lxml = soup1.find('div',class_='controls word-wrap font13')\n",
    "            title = title_lxml.p.text.strip()\n",
    "            #print(title)\n",
    "            \n",
    "            #获取选项\n",
    "            test_list = soup1.find_all('div',class_='answeroption btn btn-default btn-choose-quiz font13 btn-choose-single ')\n",
    "            list_p=[]\n",
    "            for i in range(0,len(test_list)):\n",
    "                test=str(test_list[i]).replace('\t','')\n",
    "                p=test.replace(r'<div class=\"answeroption btn btn-default btn-choose-quiz font13 btn-choose-single \">','')\n",
    "                t=p.replace('</div>','')\n",
    "                list_p.append(t.strip())\n",
    "                #print(t.strip())\n",
    "            #print(list_p) \n",
    "            \n",
    "            #获取图片\n",
    "            img_list = soup1.find('img')\n",
    "            if(str(img_list)=='None'):\n",
    "                print(\"no img\")\n",
    "\n",
    "                shu={\"Test_name\": title,\"question\": {\"Test_type\": \"单选题\",\"question_title\": title,\"question_cont\": list_p},\"result\": Reault}\n",
    "                data = json.dumps(shu)\n",
    "                print(data)\n",
    "                conn  = MySQLdb.connect(host='localhost',user='root',passwd='linj',db='python')\n",
    "                cur= conn.cursor()\n",
    "                \n",
    "                tsql = \"insert into jsondata(id,type,format,data) values(c,a,b,'{json}')\"\n",
    "                sql = tsql.format(c=4,a='图片测试',b='单选',json=MySQLdb.escape_string(r'data'))\n",
    "                cur.execute(sql)\n",
    "                cur.close()\n",
    "                conn.commit()\n",
    "                conn.close()\n",
    "                \n",
    "                \n",
    "                \n",
    "            else:\n",
    "                src=img_list.get('src')\n",
    "                name=src[-25:-7]\n",
    "                t = requests.get(src)\n",
    "                with open('F:/About Me/img/'+name, 'wb') as f:\n",
    "                    f.write(t.content)   \n",
    "                path='F:/About Me/img/'+name\n",
    "                #print(path)   \n",
    "                shu={\"Test_name\": title,\n",
    "                     \"question\": \n",
    "                     {\"Test_type\": \"单选题\",\n",
    "                      \"question_title\": title,\n",
    "                      \"questtion_img\": path,\n",
    "                      \"question_cont\": list_p,\n",
    "                     },\n",
    "                      \"result\": Reault\n",
    "                    }\n",
    "               \n",
    "                data= json.dumps(shu)\n",
    "                \n",
    "                conn  = MySQLdb.connect(host='localhost',user='root',passwd='linj',db='python')\n",
    "                cur= conn.cursor()\n",
    "                tsql = \"insert into jsondata(id,type,format,data) values(c,a,b,'{json}')\"\n",
    "                sql = tsql.format(c=4,a='图片测试',b='单选',json=MySQLdb.escape_string(r'data'))\n",
    "                \n",
    "                cur.execute(sql)\n",
    "              \n",
    "                cur.close()\n",
    "                conn.commit()\n",
    "                conn.close()\n",
    "\n",
    "\n",
    "        else:\n",
    "            print(\"不符合要求\",end=' ')\n",
    "\n",
    "                    \n",
    "    "
   ]
  },
  {
   "cell_type": "code",
   "execution_count": 54,
   "metadata": {
    "collapsed": false
   },
   "outputs": [
    {
     "name": "stdout",
     "output_type": "stream",
     "text": [
      "13题\n",
      "5k+\n"
     ]
    }
   ],
   "source": [
    " for each in i:\n",
    "            print(str(each))\n",
    "           https://www.33iq.com/quiz/quwei"
   ]
  },
  {
   "cell_type": "code",
   "execution_count": 25,
   "metadata": {
    "collapsed": false
   },
   "outputs": [
    {
     "name": "stdout",
     "output_type": "stream",
     "text": [
      "1\n"
     ]
    }
   ],
   "source": [
    "a=\"7\"\n",
    "b=100*a\n",
    "print(int(b)%8)"
   ]
  },
  {
   "cell_type": "code",
   "execution_count": 5,
   "metadata": {
    "collapsed": false
   },
   "outputs": [
    {
     "ename": "TypeError",
     "evalue": "get() got an unexpected keyword argument 'data'",
     "output_type": "error",
     "traceback": [
      "\u001b[0;31m---------------------------------------------------------------------------\u001b[0m",
      "\u001b[0;31mTypeError\u001b[0m                                 Traceback (most recent call last)",
      "\u001b[0;32m<ipython-input-5-531a96348a56>\u001b[0m in \u001b[0;36m<module>\u001b[0;34m()\u001b[0m\n\u001b[1;32m     14\u001b[0m \u001b[1;33m\u001b[0m\u001b[0m\n\u001b[1;32m     15\u001b[0m \u001b[0mdriver\u001b[0m \u001b[1;33m=\u001b[0m \u001b[0mwebdriver\u001b[0m\u001b[1;33m.\u001b[0m\u001b[0mFirefox\u001b[0m\u001b[1;33m(\u001b[0m\u001b[0mfirefox_binary\u001b[0m\u001b[1;33m=\u001b[0m\u001b[0mbinary\u001b[0m\u001b[1;33m,\u001b[0m\u001b[0mcapabilities\u001b[0m\u001b[1;33m=\u001b[0m\u001b[0mcaps\u001b[0m\u001b[1;33m)\u001b[0m\u001b[1;33m\u001b[0m\u001b[0m\n\u001b[0;32m---> 16\u001b[0;31m \u001b[0mdriver\u001b[0m\u001b[1;33m.\u001b[0m\u001b[0mget\u001b[0m\u001b[1;33m(\u001b[0m\u001b[1;34m'https://www.33iq.com//quiz/quizresult/575.html'\u001b[0m\u001b[1;33m,\u001b[0m\u001b[0mdata\u001b[0m\u001b[1;33m=\u001b[0m\u001b[0mpost_data\u001b[0m\u001b[1;33m)\u001b[0m\u001b[1;33m\u001b[0m\u001b[0m\n\u001b[0m\u001b[1;32m     17\u001b[0m \u001b[1;33m\u001b[0m\u001b[0m\n\u001b[1;32m     18\u001b[0m \u001b[0mhouses\u001b[0m \u001b[1;33m=\u001b[0m \u001b[0mdriver\u001b[0m\u001b[1;33m.\u001b[0m\u001b[0mfind_elements_by_css_selector\u001b[0m\u001b[1;33m(\u001b[0m\u001b[1;34m'table'\u001b[0m\u001b[1;33m)\u001b[0m\u001b[1;33m\u001b[0m\u001b[0m\n",
      "\u001b[0;31mTypeError\u001b[0m: get() got an unexpected keyword argument 'data'"
     ]
    }
   ],
   "source": [
    "from selenium import webdriver\n",
    "from selenium.webdriver.firefox.firefox_binary import FirefoxBinary\n",
    "caps = webdriver.DesiredCapabilities.FIREFOX\n",
    "import time\n",
    "\n",
    "#表单数据\n",
    "post_data = {\n",
    "    'q_id':'575',\n",
    "    'qq_type':'2'\n",
    "}\n",
    "\n",
    "caps[\"marionette\"]=True\n",
    "binary = FirefoxBinary(r\"D:\\python外用包\\firefox.exe\")\n",
    "\n",
    "driver = webdriver.Firefox(firefox_binary=binary,capabilities=caps)\n",
    "driver.get('https://www.33iq.com//quiz/quizresult/575.html',data=post_data)\n",
    "\n",
    "houses = driver.find_elements_by_css_selector('table')\n",
    "print(houses)"
   ]
  },
  {
   "cell_type": "code",
   "execution_count": 6,
   "metadata": {
    "collapsed": false
   },
   "outputs": [
    {
     "ename": "NameError",
     "evalue": "name 'url' is not defined",
     "output_type": "error",
     "traceback": [
      "\u001b[0;31m---------------------------------------------------------------------------\u001b[0m",
      "\u001b[0;31mNameError\u001b[0m                                 Traceback (most recent call last)",
      "\u001b[0;32m<ipython-input-6-3d571976b974>\u001b[0m in \u001b[0;36m<module>\u001b[0;34m()\u001b[0m\n\u001b[1;32m     10\u001b[0m }\n\u001b[1;32m     11\u001b[0m \u001b[1;31m# 提交并获取返回数据\u001b[0m\u001b[1;33m\u001b[0m\u001b[1;33m\u001b[0m\u001b[0m\n\u001b[0;32m---> 12\u001b[0;31m \u001b[0mpost_html\u001b[0m \u001b[1;33m=\u001b[0m \u001b[0mrequests\u001b[0m\u001b[1;33m.\u001b[0m\u001b[0mpost\u001b[0m\u001b[1;33m(\u001b[0m\u001b[0murl\u001b[0m\u001b[1;33m,\u001b[0m\u001b[0mdata\u001b[0m\u001b[1;33m=\u001b[0m\u001b[0mpost_data\u001b[0m\u001b[1;33m)\u001b[0m\u001b[1;33m\u001b[0m\u001b[0m\n\u001b[0m\u001b[1;32m     13\u001b[0m \u001b[1;33m\u001b[0m\u001b[0m\n",
      "\u001b[0;31mNameError\u001b[0m: name 'url' is not defined"
     ]
    }
   ],
   "source": [
    "import os\n",
    "import requests\n",
    "r = requests.get('https://a.33iq.com/upload/18/04/03/images/15227352204761.png!33.jpg')\n",
    "with open('F:/About Me/img/img2.png', 'wb') as f:\n",
    "    f.write(r.content)   \n",
    "    \n",
    "    post_data = {\n",
    "    'entities_only':'true',\n",
    "    'page':'1'\n",
    "}\n",
    "# 提交并获取返回数据\n",
    "post_html = requests.post(url,data=post_data)\n",
    "    "
   ]
  },
  {
   "cell_type": "code",
   "execution_count": 2,
   "metadata": {
    "collapsed": false
   },
   "outputs": [
    {
     "name": "stdout",
     "output_type": "stream",
     "text": [
      "<table class=\"quiz-result\">\n",
      "<tbody>\n",
      "<tr class=\"\">\n",
      "<td>\n",
      "<p>测试得分： <b class=\"score-orange font18\">0 </b> </p>\n",
      "<p>结果分析：你的数学天赋还不成形，加油吧~</p>\n",
      "</td>\n",
      "</tr>\n",
      "<tr class=\"hide\">\n",
      "<td>\n",
      "<p>测试得分： <b class=\"score-orange font18\">0 </b> </p>\n",
      "<p>结果分析：你的数学天赋是欧拉型</p>\n",
      "</td>\n",
      "</tr>\n",
      "<tr class=\"hide\">\n",
      "<td>\n",
      "<p>测试得分： <b class=\"score-orange font18\">0 </b> </p>\n",
      "<p>结果分析：你的数学天赋是高斯型</p>\n",
      "</td>\n",
      "</tr>\n",
      "</tbody>\n",
      "</table>\n",
      "['测试得分： 0  ', '结果分析：你的数学天赋还不成形，加油吧~', '测试得分： 0  ', '结果分析：你的数学天赋是欧拉型', '测试得分： 0  ', '结果分析：你的数学天赋是高斯型']\n"
     ]
    }
   ],
   "source": [
    "import requests\n",
    "import re\n",
    "from bs4 import BeautifulSoup\n",
    "\n",
    "result='https://www.33iq.com//quiz/quizresult/575.html'\n",
    "id=575\n",
    "post_data = {\n",
    "    'q_id':id,\n",
    "    'qq_type':'2'\n",
    "}\n",
    "headers2={\n",
    "                 'User-Agent':'Mozilla/5.0 (Windows NT 10.0; WOW64) AppleWebKit/537.36 (KHTML, like Gecko) Chrome/70.0.3538.110 Safari/537.36'\n",
    "            }\n",
    "r3 = requests.post(result,headers=headers2,timeout=10,data=post_data)\n",
    "r3.encoding='gb2312'\n",
    "soup2 = BeautifulSoup(r3.text,'lxml')\n",
    "tr_list = soup2.find('table')\n",
    "print(tr_list)\n",
    "result=tr_list.find_all('p')\n",
    "Reault=[]\n",
    "for ea in result:\n",
    "    each=str(ea).replace('<b class=\"score-orange font18\">','').replace('</b>','').replace('<p>','').replace('</p>','')\n",
    "    Reault.append(each)\n",
    "print(Reault)\n",
    "#print(soup2)"
   ]
  },
  {
   "cell_type": "code",
   "execution_count": 16,
   "metadata": {
    "collapsed": false
   },
   "outputs": [
    {
     "name": "stdout",
     "output_type": "stream",
     "text": [
      "insert into test(data) values (b'\"d\"')\n"
     ]
    },
    {
     "ename": "ProgrammingError",
     "evalue": "(1064, 'You have an error in your SQL syntax; check the manual that corresponds to your MySQL server version for the right syntax to use near \\'b\\'\"d\"\\')\\' at line 1')",
     "output_type": "error",
     "traceback": [
      "\u001b[0;31m---------------------------------------------------------------------------\u001b[0m",
      "\u001b[0;31mProgrammingError\u001b[0m                          Traceback (most recent call last)",
      "\u001b[0;32m<ipython-input-16-720fa5624e5c>\u001b[0m in \u001b[0;36m<module>\u001b[0;34m()\u001b[0m\n\u001b[1;32m     18\u001b[0m \u001b[1;31m#sql = tsql.format(a=MySQLdb.escape_string(c))\u001b[0m\u001b[1;33m\u001b[0m\u001b[1;33m\u001b[0m\u001b[0m\n\u001b[1;32m     19\u001b[0m \u001b[1;33m\u001b[0m\u001b[0m\n\u001b[0;32m---> 20\u001b[0;31m \u001b[0mi\u001b[0m\u001b[1;33m=\u001b[0m\u001b[0mcur\u001b[0m\u001b[1;33m.\u001b[0m\u001b[0mexecute\u001b[0m\u001b[1;33m(\u001b[0m\u001b[0mtsql\u001b[0m\u001b[1;33m)\u001b[0m\u001b[1;33m\u001b[0m\u001b[0m\n\u001b[0m\u001b[1;32m     21\u001b[0m    \u001b[1;31m# Commit your changes in the database\u001b[0m\u001b[1;33m\u001b[0m\u001b[1;33m\u001b[0m\u001b[0m\n\u001b[1;32m     22\u001b[0m \u001b[1;33m\u001b[0m\u001b[0m\n",
      "\u001b[0;32mD:\\Python\\lib\\site-packages\\MySQLdb\\cursors.py\u001b[0m in \u001b[0;36mexecute\u001b[0;34m(self, query, args)\u001b[0m\n\u001b[1;32m    204\u001b[0m \u001b[1;33m\u001b[0m\u001b[0m\n\u001b[1;32m    205\u001b[0m         \u001b[1;32massert\u001b[0m \u001b[0misinstance\u001b[0m\u001b[1;33m(\u001b[0m\u001b[0mquery\u001b[0m\u001b[1;33m,\u001b[0m \u001b[1;33m(\u001b[0m\u001b[0mbytes\u001b[0m\u001b[1;33m,\u001b[0m \u001b[0mbytearray\u001b[0m\u001b[1;33m)\u001b[0m\u001b[1;33m)\u001b[0m\u001b[1;33m\u001b[0m\u001b[0m\n\u001b[0;32m--> 206\u001b[0;31m         \u001b[0mres\u001b[0m \u001b[1;33m=\u001b[0m \u001b[0mself\u001b[0m\u001b[1;33m.\u001b[0m\u001b[0m_query\u001b[0m\u001b[1;33m(\u001b[0m\u001b[0mquery\u001b[0m\u001b[1;33m)\u001b[0m\u001b[1;33m\u001b[0m\u001b[0m\n\u001b[0m\u001b[1;32m    207\u001b[0m         \u001b[1;32mreturn\u001b[0m \u001b[0mres\u001b[0m\u001b[1;33m\u001b[0m\u001b[0m\n\u001b[1;32m    208\u001b[0m \u001b[1;33m\u001b[0m\u001b[0m\n",
      "\u001b[0;32mD:\\Python\\lib\\site-packages\\MySQLdb\\cursors.py\u001b[0m in \u001b[0;36m_query\u001b[0;34m(self, q)\u001b[0m\n\u001b[1;32m    310\u001b[0m         \u001b[0mdb\u001b[0m \u001b[1;33m=\u001b[0m \u001b[0mself\u001b[0m\u001b[1;33m.\u001b[0m\u001b[0m_get_db\u001b[0m\u001b[1;33m(\u001b[0m\u001b[1;33m)\u001b[0m\u001b[1;33m\u001b[0m\u001b[0m\n\u001b[1;32m    311\u001b[0m         \u001b[0mself\u001b[0m\u001b[1;33m.\u001b[0m\u001b[0m_result\u001b[0m \u001b[1;33m=\u001b[0m \u001b[1;32mNone\u001b[0m\u001b[1;33m\u001b[0m\u001b[0m\n\u001b[0;32m--> 312\u001b[0;31m         \u001b[0mdb\u001b[0m\u001b[1;33m.\u001b[0m\u001b[0mquery\u001b[0m\u001b[1;33m(\u001b[0m\u001b[0mq\u001b[0m\u001b[1;33m)\u001b[0m\u001b[1;33m\u001b[0m\u001b[0m\n\u001b[0m\u001b[1;32m    313\u001b[0m         \u001b[0mself\u001b[0m\u001b[1;33m.\u001b[0m\u001b[0m_do_get_result\u001b[0m\u001b[1;33m(\u001b[0m\u001b[0mdb\u001b[0m\u001b[1;33m)\u001b[0m\u001b[1;33m\u001b[0m\u001b[0m\n\u001b[1;32m    314\u001b[0m         \u001b[0mself\u001b[0m\u001b[1;33m.\u001b[0m\u001b[0m_post_get_result\u001b[0m\u001b[1;33m(\u001b[0m\u001b[1;33m)\u001b[0m\u001b[1;33m\u001b[0m\u001b[0m\n",
      "\u001b[0;32mD:\\Python\\lib\\site-packages\\MySQLdb\\connections.py\u001b[0m in \u001b[0;36mquery\u001b[0;34m(self, query)\u001b[0m\n\u001b[1;32m    222\u001b[0m         \u001b[1;32mif\u001b[0m \u001b[0misinstance\u001b[0m\u001b[1;33m(\u001b[0m\u001b[0mquery\u001b[0m\u001b[1;33m,\u001b[0m \u001b[0mbytearray\u001b[0m\u001b[1;33m)\u001b[0m\u001b[1;33m:\u001b[0m\u001b[1;33m\u001b[0m\u001b[0m\n\u001b[1;32m    223\u001b[0m             \u001b[0mquery\u001b[0m \u001b[1;33m=\u001b[0m \u001b[0mbytes\u001b[0m\u001b[1;33m(\u001b[0m\u001b[0mquery\u001b[0m\u001b[1;33m)\u001b[0m\u001b[1;33m\u001b[0m\u001b[0m\n\u001b[0;32m--> 224\u001b[0;31m         \u001b[0m_mysql\u001b[0m\u001b[1;33m.\u001b[0m\u001b[0mconnection\u001b[0m\u001b[1;33m.\u001b[0m\u001b[0mquery\u001b[0m\u001b[1;33m(\u001b[0m\u001b[0mself\u001b[0m\u001b[1;33m,\u001b[0m \u001b[0mquery\u001b[0m\u001b[1;33m)\u001b[0m\u001b[1;33m\u001b[0m\u001b[0m\n\u001b[0m\u001b[1;32m    225\u001b[0m \u001b[1;33m\u001b[0m\u001b[0m\n\u001b[1;32m    226\u001b[0m     \u001b[1;32mdef\u001b[0m \u001b[0m_bytes_literal\u001b[0m\u001b[1;33m(\u001b[0m\u001b[0mself\u001b[0m\u001b[1;33m,\u001b[0m \u001b[0mbs\u001b[0m\u001b[1;33m)\u001b[0m\u001b[1;33m:\u001b[0m\u001b[1;33m\u001b[0m\u001b[0m\n",
      "\u001b[0;31mProgrammingError\u001b[0m: (1064, 'You have an error in your SQL syntax; check the manual that corresponds to your MySQL server version for the right syntax to use near \\'b\\'\"d\"\\')\\' at line 1')"
     ]
    }
   ],
   "source": [
    "import json\n",
    "import MySQLdb \n",
    "\n",
    "\n",
    "d={'name':'jack'}\n",
    "\n",
    "#a=str(d)\n",
    "#c=bytes(str(d), encoding = \"utf8\")\n",
    "d_json=json.dumps('''d''')\n",
    "c=bytes(d_json, encoding = \"utf8\")\n",
    "\n",
    "conn = MySQLdb.connect(host='localhost', port=3306, user='root', passwd='linj', db='python',charset='utf8')\n",
    "cur = conn.cursor()\n",
    "\n",
    "\n",
    "tsql = \"insert into test(data) values (%s)\"%(c)\n",
    "print(tsql)\n",
    "#sql = tsql.format(a=MySQLdb.escape_string(c))\n",
    "\n",
    "i=cur.execute(tsql)\n",
    "   # Commit your changes in the database\n",
    "\n",
    "# disconnect from server\n",
    "\n",
    "\n",
    "print(i)\n",
    "\n",
    "\n",
    "cur.execute('select data from test where id=17')\n",
    "mydata = cur.fetchall()\n",
    "print(mydata)\n",
    "cur.close()\n",
    "conn.commit()\n",
    "conn.close()\n",
    "\n",
    "\n",
    "\n"
   ]
  }
 ],
 "metadata": {
  "kernelspec": {
   "display_name": "Python 3",
   "language": "python",
   "name": "python3"
  },
  "language_info": {
   "codemirror_mode": {
    "name": "ipython",
    "version": 3
   },
   "file_extension": ".py",
   "mimetype": "text/x-python",
   "name": "python",
   "nbconvert_exporter": "python",
   "pygments_lexer": "ipython3",
   "version": "3.6.0"
  }
 },
 "nbformat": 4,
 "nbformat_minor": 2
}
